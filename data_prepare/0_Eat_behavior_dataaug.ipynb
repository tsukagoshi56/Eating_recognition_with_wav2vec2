{
 "cells": [
  {
   "cell_type": "markdown",
   "id": "fe183e01-012d-47d4-ab18-41d620603135",
   "metadata": {},
   "source": [
    "old_なEATを処理する (一度だけ実行)"
   ]
  },
  {
   "cell_type": "code",
   "execution_count": 1,
   "id": "85464e30-319c-48ad-993b-5f71e8fd2886",
   "metadata": {},
   "outputs": [],
   "source": [
    "import pandas as pd\n",
    "import numpy as np\n",
    "from tqdm import tqdm\n",
    "import os\n",
    "import librosa\n",
    "import soundfile as sf\n",
    "\n",
    "#dataを作成するプログラム群\n",
    "#中村さんのデータはA,Bなどのフォルダ構成を想定(食行動DBの研究フォルダからダウンロード、展開したもの)\n",
    "#現状、食行動DBのdatasetは強ラベル(正確なもの)がついている。\n",
    "\n",
    "#実験用のデータフォルダ\n",
    "output_folder = \"/scratch/acf15294oh/database/test_9_6\"\n",
    "\n",
    "\n",
    "\n",
    "\n",
    "# 中村さんのデータフォルダ\n",
    "old_data_folder = \"/scratch/acf15294oh/database/behavior_old\"\n",
    "\n",
    "\n",
    "#ファイル階層は以下を想定\n",
    "#\n",
    "# EAT_old(data_folder)\n",
    "#    |\n",
    "#    |--A\n",
    "#    |  |--001_CBG_22k_MAN01_1.wav\n",
    "#    |   --001_CBG_MAN01_01.txt\n",
    "#     --B\n",
    "#       |--001_CBG_22k_MHT01_1.wav\n",
    "#        --001_CBG_MHT01_01.txt\n",
    "\n",
    "wav_output_folder = old_data_folder + \"/wav_div\"\n",
    "text_output_folder = old_data_folder + \"/text_strong_div\"\n",
    "\n",
    "# 利用したいマイクのリスト\n",
    "Mics = {\n",
    "    #\"SM\": 1,\n",
    "     \"TM01\": 2,\n",
    "    # \"TM02\": 3,\n",
    "    # \"EM01\": 4,\n",
    "    # \"EM02\": 5,\n",
    "    #\"CM\": 6\n",
    "}\n",
    "\n",
    "Augmentation = [\n",
    "    #\"ngram\", 未実装\n",
    "    \"label_start_cut\",\n",
    "    #\"enhancement\"\n",
    "]\n",
    "\n",
    "#切り分ける音声ファイルの長さの最小値と最大値を設定\n",
    "segment = 10\n",
    "max_segment_sec = 15\n",
    "\n",
    "\n",
    "old_wav_folder = output_folder + \"/old_wav_ful\"\n",
    "old_txt_folder = output_folder + \"/old_txt_ful\"\n",
    "old_div_folder = output_folder + \"/old_wav_aug\"\n",
    "old_div_text_folder = output_folder + \"/old_text_aug\"\n"
   ]
  },
  {
   "cell_type": "markdown",
   "id": "0764f357",
   "metadata": {},
   "source": [
    "## ***中村さんのデータを取り出し、各マイクフォルダへと割り当てる"
   ]
  },
  {
   "cell_type": "code",
   "execution_count": 2,
   "id": "cbb2bebe-ae5e-4ebf-a89f-0067d8a11674",
   "metadata": {},
   "outputs": [
    {
     "name": "stdout",
     "output_type": "stream",
     "text": [
      "move text files!\n",
      "finish text files!\n",
      "move wav files!\n",
      "/scratch/acf15294oh/database/behavior_old\n"
     ]
    },
    {
     "name": "stderr",
     "output_type": "stream",
     "text": [
      "0it [00:00, ?it/s]\n"
     ]
    },
    {
     "name": "stdout",
     "output_type": "stream",
     "text": [
      "/scratch/acf15294oh/database/behavior_old/C\n"
     ]
    },
    {
     "name": "stderr",
     "output_type": "stream",
     "text": [
      "100%|██████████| 185/185 [00:00<00:00, 216.17it/s]\n"
     ]
    },
    {
     "name": "stdout",
     "output_type": "stream",
     "text": [
      "/scratch/acf15294oh/database/behavior_old/B\n"
     ]
    },
    {
     "name": "stderr",
     "output_type": "stream",
     "text": [
      "100%|██████████| 146/146 [00:00<00:00, 190.12it/s]\n"
     ]
    },
    {
     "name": "stdout",
     "output_type": "stream",
     "text": [
      "/scratch/acf15294oh/database/behavior_old/A\n"
     ]
    },
    {
     "name": "stderr",
     "output_type": "stream",
     "text": [
      "100%|██████████| 178/178 [00:01<00:00, 176.30it/s]\n"
     ]
    },
    {
     "name": "stdout",
     "output_type": "stream",
     "text": [
      "/scratch/acf15294oh/database/behavior_old/D\n"
     ]
    },
    {
     "name": "stderr",
     "output_type": "stream",
     "text": [
      "100%|██████████| 185/185 [00:00<00:00, 185.98it/s]\n"
     ]
    },
    {
     "name": "stdout",
     "output_type": "stream",
     "text": [
      "/scratch/acf15294oh/database/behavior_old/F\n"
     ]
    },
    {
     "name": "stderr",
     "output_type": "stream",
     "text": [
      "100%|██████████| 191/191 [00:01<00:00, 170.56it/s]\n"
     ]
    },
    {
     "name": "stdout",
     "output_type": "stream",
     "text": [
      "/scratch/acf15294oh/database/behavior_old/E\n"
     ]
    },
    {
     "name": "stderr",
     "output_type": "stream",
     "text": [
      "100%|██████████| 205/205 [00:01<00:00, 151.59it/s]\n"
     ]
    },
    {
     "name": "stdout",
     "output_type": "stream",
     "text": [
      "finish wav files!\n",
      "resample audio_files!\n",
      "/scratch/acf15294oh/database/behavior_TM01/old_wav_ful\n"
     ]
    },
    {
     "name": "stderr",
     "output_type": "stream",
     "text": [
      "0it [00:00, ?it/s]\n"
     ]
    },
    {
     "name": "stdout",
     "output_type": "stream",
     "text": [
      "/scratch/acf15294oh/database/behavior_TM01/old_wav_ful/TM01\n"
     ]
    },
    {
     "name": "stderr",
     "output_type": "stream",
     "text": [
      "100%|██████████| 148/148 [00:26<00:00,  5.50it/s]"
     ]
    },
    {
     "name": "stdout",
     "output_type": "stream",
     "text": [
      "all finished!\n"
     ]
    },
    {
     "name": "stderr",
     "output_type": "stream",
     "text": [
      "\n"
     ]
    }
   ],
   "source": [
    "\n",
    "\n",
    "\n",
    "# 各フォルダに対して処理を行う\n",
    "for folder in Mics:\n",
    "    # 完全なパスを作成\n",
    "    folder_path = os.path.join(old_wav_folder, folder)\n",
    "    \n",
    "    # ディレクトリが存在しない場合は作成\n",
    "    if not os.path.exists(folder_path):\n",
    "        os.makedirs(folder_path)\n",
    "        #print(f\"Created folder: {folder_path}\")\n",
    "    else:\n",
    "        print(f\"Folder already exists: {folder_path}\")\n",
    "\n",
    "if not os.path.exists(old_txt_folder):\n",
    "    os.makedirs(old_txt_folder)\n",
    "    #print(f\"Created folder: {old_txt_folder}\")\n",
    "else:\n",
    "    print(f\"Folder already exists: {old_txt_folder}\")\n",
    "\n",
    "import shutil\n",
    "\n",
    "def move_text_files(source_folder, destination_folder):\n",
    "    # source_folder の中を再帰的に探索\n",
    "    for dirpath, dirnames, filenames in os.walk(source_folder):\n",
    "        for filename in filenames:\n",
    "            if not filename.startswith('._') and filename.endswith('.txt'):  # テキストファイルをチェック\n",
    "                source_file = os.path.join(dirpath, filename)\n",
    "                filename = filename.replace(\"001_\", \"\")\n",
    "                destination_file = os.path.join(destination_folder, filename)\n",
    "\n",
    "\n",
    "                # ファイルを移動する前に、同名のファイルが目的地に存在するか確認\n",
    "                if os.path.exists(destination_file):\n",
    "                    print(f\"Error: {destination_file} already exists.\")\n",
    "                else:\n",
    "                    shutil.copy(source_file, destination_file)  # ファイルを移動\n",
    "                    #print(f\"copy: {source_file} -> {destination_file}\")\n",
    "\n",
    "def move_wav_files(source_folder, destination_folder):\n",
    "    # source_folder の中を再帰的に探索\n",
    "    for dirpath, dirnames, filenames in os.walk(source_folder):\n",
    "        print(dirpath)\n",
    "        for filename in tqdm(filenames):\n",
    "            if not filename.startswith('._') and filename.endswith('.wav'):  # テキストファイルをチェック\n",
    "                for mic in Mics:\n",
    "                    source_file = os.path.join(dirpath, filename)\n",
    "                    #filename = filename.replace(\"001_\", \"\")\n",
    "                    mic_num = source_file.split(\"_\")[-1].split(\".\")[0]\n",
    "                    if str(Mics[mic]) == mic_num:\n",
    "                        filename = mic + \"/\" +filename\n",
    "                        destination_file = os.path.join(destination_folder, filename)\n",
    "                        #print(destination_file)\n",
    "\n",
    "                        # ファイルを移動する前に、同名のファイルが目的地に存在するか確認\n",
    "                        if os.path.exists(destination_file):\n",
    "                            print(f\"Error: {destination_file} already exists.\")\n",
    "                        else:\n",
    "                            shutil.copy(source_file, destination_file)  # ファイルを移動\n",
    "                            #print(f\"copy: {source_file} -> {destination_file}\")\n",
    "\n",
    "\n",
    "def resample_audio_files(source_folder, target_folder, target_sr=16000):\n",
    "    # source_folder の中を再帰的に探索\n",
    "    for dirpath, dirnames, filenames in os.walk(source_folder):\n",
    "        print(dirpath)\n",
    "        for filename in tqdm(filenames):\n",
    "            if filename.lower().endswith(('.wav', '.flac', '.mp3')):  # 対応する音声ファイル形式\n",
    "                source_file = os.path.join(dirpath, filename)\n",
    "\n",
    "\n",
    "                filename = filename.replace(\"_22k_\", \"_\")\n",
    "                filename = filename.replace(\"001_\", \"\")\n",
    "                target_file = os.path.join(dirpath, filename)\n",
    "\n",
    "                \n",
    "                # 音声を読み込み、サンプリングレートを変更\n",
    "                audio, sr = librosa.load(source_file, sr=None)  # 元のサンプリングレートで読み込み\n",
    "                if sr != target_sr:\n",
    "                    audio_resampled = librosa.resample(audio, orig_sr=sr, target_sr=target_sr)\n",
    "                    # レート変更後の音声を保存\n",
    "                    sf.write(target_file, audio_resampled, target_sr)\n",
    "                    #print(f\"Resampled and saved {source_file} -> {target_file} at {target_sr} Hz\")\n",
    "                    if os.path.exists(source_file):\n",
    "                        # ファイルを削除\n",
    "                        os.remove(source_file)\n",
    "                        #print(f\"Deleted: {source_file}\")\n",
    "        \n",
    "                else:\n",
    "                    # サンプリングレートが既に目的のものであれば、何もしない\n",
    "                    #print(f\"nothing to do {source_file} -> {target_file}\")\n",
    "                    continue\n",
    "\n",
    "\n",
    "\n",
    "\n",
    "\n",
    "\n",
    "source = old_data_folder\n",
    "destination = old_txt_folder\n",
    "print(\"move text files!\")\n",
    "move_text_files(source, destination)\n",
    "print(\"finish text files!\")\n",
    "\n",
    "source = old_data_folder\n",
    "destination = old_wav_folder\n",
    "print(\"move wav files!\")\n",
    "move_wav_files(source, destination)\n",
    "print(\"finish wav files!\")\n",
    "\n",
    "source = old_wav_folder\n",
    "destination = old_wav_folder\n",
    "print(\"resample audio_files!\")\n",
    "resample_audio_files(source, destination)\n",
    "print(\"all finished!\")"
   ]
  },
  {
   "cell_type": "markdown",
   "id": "ec532081-8981-439a-94b5-345699776f65",
   "metadata": {},
   "source": [
    "# **データフォルダからテキスト情報を収集、DFに格納**"
   ]
  },
  {
   "cell_type": "code",
   "execution_count": 3,
   "id": "359b7e11-6908-4f9d-876c-56fe9b63f40b",
   "metadata": {},
   "outputs": [
    {
     "name": "stdout",
     "output_type": "stream",
     "text": [
      "総行数: 24193\n",
      "      Speaker Food   StartTime     EndTime Behavior\n",
      "0       MKG01  GUM    2.207962    2.628346    right\n",
      "1       MKG01  GUM    2.796878    3.516454    right\n",
      "2       MKG01  GUM    4.270115    4.584456    right\n",
      "3       MKG01  GUM    5.177160    5.529373    right\n",
      "4       MKG01  GUM    5.828565    6.148587    right\n",
      "...       ...  ...         ...         ...      ...\n",
      "24188   MTG01  CBG  366.286825  366.559630     left\n",
      "24189   MTG01  CBG  366.960815  367.205815     left\n",
      "24190   MTG01  CBG  367.575964  367.820964     left\n",
      "24191   MTG01  CBG  371.015453  371.715453  swallow\n",
      "24192   MTG01  CBG  378.359804  379.059804  swallow\n",
      "\n",
      "[24193 rows x 5 columns]\n"
     ]
    }
   ],
   "source": [
    "import os\n",
    "import pandas as pd\n",
    "import re\n",
    "\n",
    "text_folder = old_txt_folder\n",
    "\n",
    "# フォルダ内の全てのテキストファイルのリストを取得\n",
    "files = [f for f in os.listdir(text_folder) if f.endswith('.txt')]\n",
    "\n",
    "# 全ファイルのデータを保持するリスト\n",
    "all_rows = []\n",
    "\n",
    "# 各ファイルに対して処理を行う\n",
    "for file_name in files:\n",
    "    file_path = os.path.join(text_folder, file_name)\n",
    "    speaker = file_name.split(\"_\")[-2]\n",
    "    food = file_name.split(\"_\")[0]\n",
    "    \n",
    "    if len(file_name.split(\"_\")) == 4:\n",
    "        index = file_name.split(\"_\")[1]\n",
    "        food = food + \"_\" + index\n",
    "    \n",
    "    # ファイルを開いて各行をリストとして読み込む\n",
    "    with open(file_path, 'r', encoding='utf-8') as file:\n",
    "         rows = [\n",
    "                    [float(row[0])] + [float(row[1])] + row[2:]\n",
    "                    for row in (\n",
    "                        [item for item in re.split(r'\\s+', line.strip()) if item]  # 連続する空白で分割し、空の要素を除外\n",
    "                        for line in file\n",
    "                    )\n",
    "                ]\n",
    "    \n",
    "    # 読み込んだ各行に話者名を追加し、全体のリストに追加\n",
    "    for row in rows:\n",
    "        all_rows.append([speaker] + [food] + row)\n",
    "\n",
    "# 全データを含むデータフレームを作成\n",
    "df = pd.DataFrame(all_rows, columns=['Speaker', \"Food\", 'StartTime','EndTime', 'Behavior']) \n",
    "\n",
    "# データフレームを表示\n",
    "\n",
    "print(f\"総行数: {len(df)}\")\n",
    "print(df)  # データフレームの最初の数行を表示"
   ]
  },
  {
   "cell_type": "code",
   "execution_count": 4,
   "id": "f32ffc2f-6a55-49e8-b12b-d102a3120615",
   "metadata": {},
   "outputs": [
    {
     "name": "stdout",
     "output_type": "stream",
     "text": [
      "    Speaker   Food  Left  Right  Chewing  Swallowing  StartTime     EndTime\n",
      "0     MKG01    GUM   109    113      222           7   2.207962  180.986976\n",
      "1     MKG01    CBG   295    400      695          28   0.437256  432.355251\n",
      "2     MKG01  W20_1     0      0        0          12   3.083867   80.779070\n",
      "3     MKG01  W20_2     0      0        0          10   3.079702   70.204555\n",
      "4     MKG01  RTZ_2    94    172      266          16   1.285022  229.598659\n",
      "..      ...    ...   ...    ...      ...         ...        ...         ...\n",
      "143   MMK01  W20_2     0      0        0           9   3.253525   75.426289\n",
      "144   MMK01    GUM    90    102      192           2   2.880862  178.690703\n",
      "145   MMK01  RTZ_1   107     47      154           6   2.832851  165.465911\n",
      "146   MMK01  W20_1     0      0        0          10   6.200624   84.405442\n",
      "147   MDN01    CBG   206    496      702          23   0.837725  551.046698\n",
      "\n",
      "[148 rows x 8 columns]\n"
     ]
    }
   ],
   "source": [
    "#複数回実行するとエラーを吐くので最初から実行し直して！！\n",
    "\n",
    "speaker_list = df['Speaker'].unique().tolist()\n",
    "rows = []\n",
    "\n",
    "for i in range(len(speaker_list)):\n",
    "\n",
    "    foods = df[df.Speaker== speaker_list[i]].Food.unique().tolist()\n",
    "    for food in foods:\n",
    "        start = df[(df.Speaker == speaker_list[i]) & (df.Food == food)].StartTime.min()\n",
    "        end = df[(df.Speaker==speaker_list[i]) & (df.Food == food)].EndTime.max()\n",
    "        \n",
    "        right_len = len(df[(df.Speaker==speaker_list[i]) & (df.Behavior==\"right\") & (df.Food == food)])\n",
    "        left_len = len(df[(df.Speaker==speaker_list[i]) & (df.Behavior==\"left\") & (df.Food == food)])\n",
    "        chew_len = right_len + left_len\n",
    "        swallow_len = len(df[(df.Speaker==speaker_list[i]) & (df.Behavior==\"swallow\") & (df.Food == food)])\n",
    "        #all_data_len = len(df[df.Speaker==speaker_list[i]])\n",
    "    \n",
    "        rows.append([speaker_list[i], food, left_len, right_len, chew_len, swallow_len, start, end])\n",
    "\n",
    "df_count = pd.DataFrame(rows, columns=['Speaker', \"Food\", 'Left', 'Right', 'Chewing', 'Swallowing', 'StartTime', 'EndTime']) \n",
    "print(df_count)"
   ]
  },
  {
   "cell_type": "code",
   "execution_count": 5,
   "id": "79950f94-dd9b-4e9c-8073-98335badeb7a",
   "metadata": {
    "scrolled": true
   },
   "outputs": [
    {
     "name": "stdout",
     "output_type": "stream",
     "text": [
      "Created folder: /scratch/acf15294oh/database/behavior_TM01/old_wav_aug/TM01\n",
      "Created folder: /scratch/acf15294oh/database/behavior_TM01/old_text_aug\n"
     ]
    }
   ],
   "source": [
    "import os\n",
    "\n",
    "if \"enhancement\" in Augmentation:\n",
    "    folder = \"conbined\"\n",
    "    folder_path = os.path.join(old_div_folder, folder)\n",
    "    \n",
    "    # ディレクトリが存在しない場合は作成\n",
    "    if not os.path.exists(folder_path):\n",
    "        os.makedirs(folder_path)\n",
    "        print(f\"Created folder: {folder_path}\")\n",
    "    else:\n",
    "        print(f\"Folder already exists: {folder_path}\")\n",
    "\n",
    "else:\n",
    "    # 各フォルダに対して処理を行う\n",
    "    for folder in Mics:\n",
    "        # 完全なパスを作成\n",
    "        folder_path = os.path.join(old_div_folder, folder)\n",
    "        \n",
    "        # ディレクトリが存在しない場合は作成\n",
    "        if not os.path.exists(folder_path):\n",
    "            os.makedirs(folder_path)\n",
    "            print(f\"Created folder: {folder_path}\")\n",
    "        else:\n",
    "            print(f\"Folder already exists: {folder_path}\")\n",
    "\n",
    "if not os.path.exists(old_div_text_folder):\n",
    "        os.makedirs(old_div_text_folder)\n",
    "        print(f\"Created folder: {old_div_text_folder}\")\n",
    "else:\n",
    "    print(f\"Folder already exists: {old_div_text_folder}\")\n"
   ]
  },
  {
   "cell_type": "code",
   "execution_count": 6,
   "id": "b1b69763",
   "metadata": {},
   "outputs": [
    {
     "name": "stderr",
     "output_type": "stream",
     "text": [
      "100%|██████████| 32/32 [00:25<00:00,  1.23it/s]\n"
     ]
    }
   ],
   "source": [
    "import wave\n",
    "import numpy as np\n",
    "import librosa\n",
    "import IPython.display as ipd\n",
    "import matplotlib.pyplot as plt\n",
    "import soundfile as sf\n",
    "from tqdm import tqdm \n",
    "\n",
    "fr = 16000\n",
    "max_duration = segment\n",
    "\n",
    "speaker_list = df['Speaker'].unique().tolist()\n",
    "\n",
    "\n",
    "\n",
    "for Speaker in tqdm(speaker_list):\n",
    "\n",
    "    foods = df[df.Speaker== Speaker].Food.unique().tolist()\n",
    "    for Food in foods: \n",
    "        sp_df = df[(df.Speaker==Speaker) & (df.Food==Food)]\n",
    "\n",
    "\n",
    "        if \"label_start_cut\" in Augmentation:\n",
    "            for ite in range(len(sp_df)-1):\n",
    "                behavior = []\n",
    "                behavior_time = []\n",
    "                start_time = sp_df.iloc[ite].StartTime\n",
    "                end_time = sp_df.iloc[ite].EndTime\n",
    "                duration = 0\n",
    "\n",
    "                behavior.append(sp_df.iloc[ite].Behavior)\n",
    "                behavior_time.append([start_time, end_time])\n",
    "                ite += 1\n",
    "\n",
    "                while ite < len(sp_df):\n",
    "                    \n",
    "            \n",
    "                    next_end_time = sp_df.iloc[ite].EndTime \n",
    "                    duration = next_end_time - start_time\n",
    "            \n",
    "                    if (duration<max_duration):            \n",
    "                        behavior.append(sp_df.iloc[ite].Behavior)\n",
    "                        next_start_time = sp_df.iloc[ite].StartTime \n",
    "                        behavior_time.append([next_start_time, next_end_time])\n",
    "                        end_time = next_end_time\n",
    "                    else:\n",
    "                        break\n",
    "                    ite += 1\n",
    "\n",
    "                start_time = start_time - 0.1\n",
    "                end_time = end_time + 0.1\n",
    "                duration = end_time-start_time\n",
    "\n",
    "                short_start_time = round(start_time, 2)\n",
    "                integer = str(short_start_time).split(\".\")[0].rjust(4,\"0\")\n",
    "                decimal = str(short_start_time).split(\".\")[1].ljust(2,\"0\")\n",
    "                #print(duration)\n",
    "            \n",
    "                \n",
    "                \n",
    "                if \"enhancement\" in Augmentation:\n",
    "                    # 各マイクのファイルパスをリストで指定\n",
    "                    mic_files = [\n",
    "                        f\"{old_wav_folder}/{mic}/{Food}_{Speaker}_{Mics[mic]}.wav\"\n",
    "                        for mic in Mics\n",
    "                    ]\n",
    "\n",
    "                    # 最初のオーディオファイルを読み込み\n",
    "                    y_combined, sr = librosa.load(mic_files[0], sr=fr, offset=start_time, duration=duration)\n",
    "\n",
    "                    # 残りのオーディオファイルを読み込み、加算\n",
    "                    for mic_file in mic_files[1:]:\n",
    "                        y, _ = librosa.load(mic_file, sr=fr, offset=start_time, duration=duration)\n",
    "                        y_combined += y\n",
    "\n",
    "                    # 加算された信号を保存\n",
    "                    wav_file = f\"{old_div_folder}/{folder}/eat_{Speaker}_{folder}_{Food}_{integer}_{decimal}.wav\"\n",
    "                    sf.write(wav_file, y_combined, sr)\n",
    "                    \n",
    "                else:    \n",
    "                    for mic in Mics:\n",
    "                        data_file = old_wav_folder + f\"/{mic}/{Food}_{Speaker}_{Mics[mic]}.wav\"\n",
    "                        #print(data_file)\n",
    "                        y, sr = librosa.load(data_file, sr=fr, offset=start_time, duration=duration) #オーディオファイルの読み込み\n",
    "                        wav_file = old_div_folder + f\"/{folder}/eat_{Speaker}_{folder}_{Food}_{integer}_{decimal}.wav\"\n",
    "                        sf.write(wav_file, y, sr) \n",
    "                        #print(wav_file)\n",
    "                \n",
    "                text_file = old_div_text_folder + f\"/eat_{Speaker}_{Food}_{integer}_{decimal}.txt\"\n",
    "\n",
    "\n",
    "                \n",
    "                with open(text_file, \"w\") as txt_file:\n",
    "                    for label, times in zip(behavior,behavior_time):\n",
    "                        beh_start_time = times[0] - start_time  # 時間差を計算\n",
    "                        beh_end_time = times[1] - start_time  # 時間差を計算\n",
    "                        \n",
    "                        if label in [\"right\", \"left\", \"front\"]:\n",
    "                            txt_file.write(f\"{beh_start_time}\\t{beh_end_time}\\tch\\n\")\n",
    "                        elif label == \"swallow\":\n",
    "                            txt_file.write(f\"{beh_start_time}\\t{beh_end_time}\\tsw\\n\")\n",
    "                        elif label in [\"noise\", \"other\"]:\n",
    "                            txt_file.write(f\"{beh_start_time}\\t{beh_end_time}\\tno\\n\")\n",
    "                        else:\n",
    "                            print(\"エラー：不正な文字列が検出されました\")\n",
    "                            print(label)\n",
    "\n",
    "        else:\n",
    "             ite = 0\n",
    "             while ite < len(sp_df):\n",
    "                behavior = []\n",
    "                behavior_time = []\n",
    "                start_time = sp_df.iloc[ite].StartTime\n",
    "                end_time = sp_df.iloc[ite].EndTime\n",
    "                duration = 0\n",
    "                \n",
    "                behavior.append(sp_df.iloc[ite].Behavior)\n",
    "                behavior_time.append([start_time, end_time])\n",
    "                ite += 1\n",
    "            \n",
    "                # sp_dfの範囲を超えないようにチェック\n",
    "                while ite < len(sp_df):\n",
    "                    next_start_time = sp_df.iloc[ite].StartTime \n",
    "                    next_end_time = sp_df.iloc[ite].EndTime \n",
    "                    duration = next_end_time - start_time\n",
    "            \n",
    "                    if (duration<max_duration):            \n",
    "                        behavior.append(sp_df.iloc[ite].Behavior)\n",
    "                        behavior_time.append([next_start_time, next_end_time])\n",
    "                        end_time = next_end_time\n",
    "                    else:\n",
    "                        break\n",
    "                    ite += 1\n",
    "            \n",
    "                start_time = start_time\n",
    "                end_time = end_time\n",
    "                duration = end_time-start_time\n",
    "\n",
    "                short_start_time = round(start_time, 2)\n",
    "                integer = str(short_start_time).split(\".\")[0].rjust(4,\"0\")\n",
    "                decimal = str(short_start_time).split(\".\")[1].ljust(2,\"0\")\n",
    "                #print(duration)\n",
    "            \n",
    "                \n",
    "                if \"enhancement\" in Augmentation:\n",
    "                    # 各マイクのファイルパスをリストで指定\n",
    "                    mic_files = [\n",
    "                        f\"{old_wav_folder}/{mic}/{Food}_{Speaker}_{Mics[mic]}.wav\"\n",
    "                        for mic in Mics\n",
    "                    ]\n",
    "\n",
    "                    # 最初のオーディオファイルを読み込み\n",
    "                    y_combined, sr = librosa.load(mic_files[0], sr=fr, offset=start_time, duration=duration)\n",
    "\n",
    "                    # 残りのオーディオファイルを読み込み、加算\n",
    "                    for mic_file in mic_files[1:]:\n",
    "                        y, _ = librosa.load(mic_file, sr=fr, offset=start_time, duration=duration)\n",
    "                        y_combined += y\n",
    "\n",
    "                    # 加算された信号を保存\n",
    "                    wav_file = f\"{old_div_folder}/{folder}/eat_{Speaker}_{folder}_{Food}_{integer}_{decimal}.wav\"\n",
    "                    sf.write(wav_file, y_combined, sr)\n",
    "                    \n",
    "                else:    \n",
    "                    for mic in Mics:\n",
    "                        data_file = old_wav_folder + f\"/{mic}/{Food}_{Speaker}_{Mics[mic]}.wav\"\n",
    "                        #print(data_file)\n",
    "                        y, sr = librosa.load(data_file, sr=fr, offset=start_time, duration=duration) #オーディオファイルの読み込み\n",
    "                        wav_file = old_div_folder + f\"/{folder}/eat_{Speaker}_{folder}_{Food}_{integer}_{decimal}.wav\"\n",
    "                        sf.write(wav_file, y, sr) \n",
    "                        #print(wav_file)\n",
    "                \n",
    "                text_file = old_div_text_folder + f\"/eat_{Speaker}_{Food}_{integer}_{decimal}.txt\"\n",
    "\n",
    "\n",
    "                \n",
    "                with open(text_file, \"w\") as txt_file:\n",
    "                    for label, times in zip(behavior,behavior_time):\n",
    "                        beh_start_time = times[0] - start_time  # 時間差を計算\n",
    "                        beh_end_time = times[1] - start_time  # 時間差を計算\n",
    "                        \n",
    "                        if label in [\"right\", \"left\", \"front\"]:\n",
    "                            txt_file.write(f\"{beh_start_time}\\t{beh_end_time}\\tch\\n\")\n",
    "                        elif label == \"swallow\":\n",
    "                            txt_file.write(f\"{beh_start_time}\\t{beh_end_time}\\tsw\\n\")\n",
    "                        elif label in [\"noise\", \"other\"]:\n",
    "                            txt_file.write(f\"{beh_start_time}\\t{beh_end_time}\\tno\\n\")\n",
    "                        else:\n",
    "                            print(\"エラー：不正な文字列が検出されました\")\n",
    "                            print(label)\n"
   ]
  },
  {
   "cell_type": "code",
   "execution_count": 7,
   "id": "9359c808-c775-4c73-ae5e-92b59653a09d",
   "metadata": {},
   "outputs": [
    {
     "name": "stdout",
     "output_type": "stream",
     "text": [
      "All specified files have been deleted.\n"
     ]
    }
   ],
   "source": [
    "import os\n",
    "import wave\n",
    "\n",
    "def list_wav_longer_than_20s(folder_path):\n",
    "    long_durations = []\n",
    "    long_files_full_path = []  # フルパスを格納する配列\n",
    "\n",
    "    # フォルダ内のすべてのファイルを再帰的にリストアップ\n",
    "    for root, dirs, files in os.walk(folder_path):\n",
    "        for file in files:\n",
    "            # ファイルがWAV形式であるか確認\n",
    "            if file.endswith('.wav'):\n",
    "                # WAVファイルのフルパスを取得\n",
    "                file_path = os.path.join(root, file)\n",
    "                \n",
    "                # WAVファイルを開く\n",
    "                try:\n",
    "                    with wave.open(file_path, 'r') as wav_file:\n",
    "                        # フレーム数を取得\n",
    "                        frames = wav_file.getnframes()\n",
    "                        # レート（1秒あたりのフレーム数）を取得\n",
    "                        rate = wav_file.getframerate()\n",
    "                        # 持続時間を計算\n",
    "                        duration = frames / float(rate)\n",
    "                        \n",
    "                        # 持続時間が20秒以上の場合にリストに追加\n",
    "                        if duration > 17:\n",
    "                            long_durations.append((file_path, duration))  # ファイルのフルパスを保存\n",
    "                except wave.Error as e:\n",
    "                    print(f\"Error opening {file_path}: {e}\")\n",
    "\n",
    "    # 持続時間でリストを降順に並び替え\n",
    "    long_durations.sort(key=lambda x: x[1], reverse=True)\n",
    "    \n",
    "    # 並び替えた結果を出力し、フルパスを配列に格納\n",
    "    for file_path, duration in long_durations:\n",
    "        long_files_full_path.append(file_path)\n",
    "        print(f\"{file_path}: {duration}秒\")\n",
    "\n",
    "    return long_files_full_path\n",
    "\n",
    "# 使用例\n",
    "folder_path = wav_output_folder\n",
    "long_files = list_wav_longer_than_20s(folder_path)\n",
    "\"\"\"\n",
    "# 出力されたファイルパスを使ってファイルを削除\n",
    "for file_path in long_files:\n",
    "    print(f\"Deleting {file_path}...\")\n",
    "    os.remove(file_path)\n",
    "    print(f\"Deleted {file_path}\")\n",
    "    \"\"\"\n",
    "\n",
    "print(\"All specified files have been deleted.\")\n"
   ]
  },
  {
   "cell_type": "code",
   "execution_count": 8,
   "id": "1a00611b-1a25-49a9-b60d-6a2bf6f80269",
   "metadata": {},
   "outputs": [
    {
     "data": {
      "text/plain": [
       "[]"
      ]
     },
     "execution_count": 8,
     "metadata": {},
     "output_type": "execute_result"
    }
   ],
   "source": [
    "long_files"
   ]
  },
  {
   "cell_type": "code",
   "execution_count": 9,
   "id": "5e03a698-7cb7-46ab-b9b1-0145aa71b85f",
   "metadata": {},
   "outputs": [
    {
     "name": "stderr",
     "output_type": "stream",
     "text": [
      "0it [00:00, ?it/s]\n",
      "  0%|          | 0/2350 [00:00<?, ?it/s]"
     ]
    },
    {
     "name": "stderr",
     "output_type": "stream",
     "text": [
      "100%|██████████| 2350/2350 [01:01<00:00, 38.39it/s]\n"
     ]
    }
   ],
   "source": [
    "import os\n",
    "import shutil\n",
    "from pathlib import Path\n",
    "import numpy as np\n",
    "from scipy import signal\n",
    "from scipy.io.wavfile import read, write\n",
    "\n",
    "# 設定\n",
    "folder_path = old_div_folder  # 検索するフォルダのパス\n",
    "cutoff = 100.0  # カットオフ周波数\n",
    "numtaps = 1023  # FIRフィルタの長さ（奇数が推奨）\n",
    "\n",
    "def high_pass_filter(input_path: Path, output_path: Path, cutoff: float, numtaps: int) -> None:\n",
    "    \"\"\"入力音声に対してHigh-Pass Filter（HPF）を適用し、結果を別のファイルに保存する。\n",
    "\n",
    "    Args:\n",
    "        input_path (Path): 入力音声のパス。\n",
    "        output_path (Path): 出力音声の保存先パス。\n",
    "        cutoff (float): カットオフ周波数。\n",
    "        numtaps (int): FIRフィルタのタップ数（フィルタの長さ）。\n",
    "    \"\"\"\n",
    "    fs, data = read(str(input_path))\n",
    "    # データを-1.0から1.0の範囲に正規化\n",
    "    data = data.astype(np.float32)\n",
    "    max_int16 = 2**15\n",
    "    data /= max_int16\n",
    "\n",
    "    # 高域通過フィルタの設計\n",
    "    hpf = signal.firwin(numtaps, cutoff, pass_zero=False, fs=fs)\n",
    "    \n",
    "    # フィルタを適用\n",
    "    filtered_data = signal.lfilter(hpf, 1.0, data)\n",
    "    \n",
    "    # データをint16に戻す\n",
    "    filtered_data = np.clip(filtered_data, -1, 1)\n",
    "    filtered_data = (filtered_data * max_int16).astype(np.int16)\n",
    "    \n",
    "    write(str(output_path), fs, filtered_data)\n",
    "\n",
    "def apply_filter_to_files(folder_path: str, cutoff: float, numtaps: int) -> None:\n",
    "    \"\"\"指定したフォルダ内のすべてのWAVファイルにHPFを適用し、元のファイルを上書きする。\n",
    "\n",
    "    Args:\n",
    "        folder_path (str): WAVファイルが存在するフォルダのパス。\n",
    "        cutoff (float): カットオフ周波数。\n",
    "        numtaps (int): フィルタのタップ数。\n",
    "    \"\"\"\n",
    "    for root, dirs, files in os.walk(folder_path):\n",
    "        for file in tqdm(files):\n",
    "            if file.endswith(\".wav\"):\n",
    "                full_path = Path(root) / file\n",
    "                temp_path = Path(root) / f\"temp_{file}\"\n",
    "                #print(f\"Processing: {full_path}\")\n",
    "                \n",
    "                # フィルタリングを実施\n",
    "                high_pass_filter(full_path, temp_path, cutoff, numtaps)\n",
    "                \n",
    "                # 元のファイルを削除して、新しいファイル名を元のファイル名に変更\n",
    "                os.remove(full_path)\n",
    "                shutil.move(temp_path, full_path)\n",
    "                #print(f\"Updated: {full_path}\")\n",
    "\n",
    "# 実行\n",
    "apply_filter_to_files(folder_path, cutoff, numtaps)\n"
   ]
  },
  {
   "cell_type": "markdown",
   "id": "96fd28a8",
   "metadata": {},
   "source": [
    "## 余分なフォルダの削除"
   ]
  },
  {
   "cell_type": "code",
   "execution_count": 10,
   "id": "bbccfc1c-638f-4eb4-b197-f63f520f23bf",
   "metadata": {},
   "outputs": [
    {
     "name": "stdout",
     "output_type": "stream",
     "text": [
      "フォルダ '/scratch/acf15294oh/database/behavior_TM01/old_wav_ful' を再帰的に削除しました。\n",
      "フォルダ '/scratch/acf15294oh/database/behavior_TM01/old_txt_ful' を再帰的に削除しました。\n"
     ]
    }
   ],
   "source": [
    "\n",
    "\n",
    "def delete_folder_recursively(folder_path):\n",
    "    # フォルダが存在するかを確認\n",
    "    if os.path.exists(folder_path):\n",
    "        # フォルダを再帰的に削除\n",
    "        shutil.rmtree(folder_path)\n",
    "        print(f\"フォルダ '{folder_path}' を再帰的に削除しました。\")\n",
    "    else:\n",
    "        print(f\"指定されたフォルダ '{folder_path}' は存在しません。\")\n",
    "\n",
    "delete_folder_recursively(old_wav_folder)\n",
    "delete_folder_recursively(old_txt_folder)\n"
   ]
  },
  {
   "cell_type": "code",
   "execution_count": null,
   "id": "282425a9-f098-4a3e-9484-bb8da2f5f0ba",
   "metadata": {},
   "outputs": [],
   "source": []
  }
 ],
 "metadata": {
  "kernelspec": {
   "display_name": "Python 3 (ipykernel)",
   "language": "python",
   "name": "python3"
  },
  "language_info": {
   "codemirror_mode": {
    "name": "ipython",
    "version": 3
   },
   "file_extension": ".py",
   "mimetype": "text/x-python",
   "name": "python",
   "nbconvert_exporter": "python",
   "pygments_lexer": "ipython3",
   "version": "3.8.13"
  }
 },
 "nbformat": 4,
 "nbformat_minor": 5
}
